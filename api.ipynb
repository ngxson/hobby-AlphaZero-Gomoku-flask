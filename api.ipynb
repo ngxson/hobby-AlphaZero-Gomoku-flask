{
 "cells": [
  {
   "cell_type": "code",
   "execution_count": 1,
   "metadata": {},
   "outputs": [],
   "source": [
    "from __future__ import print_function\n",
    "import pickle\n",
    "from game import Board, Game\n",
    "from mcts_pure import MCTSPlayer as MCTS_Pure\n",
    "from mcts_alphaZero import MCTSPlayer\n",
    "from policy_value_net_numpy import PolicyValueNetNumpy\n",
    "from flask import Flask, request, send_from_directory\n",
    "import os"
   ]
  },
  {
   "cell_type": "code",
   "execution_count": 2,
   "metadata": {},
   "outputs": [],
   "source": [
    "n = 5\n",
    "width, height = 8, 8\n",
    "model_file = 'best_policy_8_8_5.model'\n",
    "policy_param = pickle.load(open(model_file, 'rb'), encoding='bytes')\n",
    "best_policy = PolicyValueNetNumpy(width, height, policy_param)\n",
    "mcts_player = MCTSPlayer(best_policy.policy_value_fn, c_puct=5, n_playout=400)"
   ]
  },
  {
   "cell_type": "code",
   "execution_count": 3,
   "metadata": {},
   "outputs": [],
   "source": [
    "boards = {}\n",
    "agents = {}\n",
    "app = Flask(__name__, static_folder='D:/tf/AlphaZero_Gomoku/static')"
   ]
  },
  {
   "cell_type": "code",
   "execution_count": 4,
   "metadata": {},
   "outputs": [],
   "source": [
    "class Agent(object):\n",
    "    def __init__(self):\n",
    "        self.player = None\n",
    "\n",
    "    def set_player_ind(self, p):\n",
    "        self.player = p\n",
    "\n",
    "    def __str__(self):\n",
    "        return \"API {}\".format(self.player)"
   ]
  },
  {
   "cell_type": "code",
   "execution_count": 5,
   "metadata": {},
   "outputs": [],
   "source": [
    "def check_and_create_board(uid):\n",
    "    if uid not in boards:\n",
    "        agent = Agent()\n",
    "        board = Board(width=width, height=height, n_in_row=n)\n",
    "        board.init_board(0)\n",
    "        p1, p2 = board.players\n",
    "        agent.set_player_ind(p1)\n",
    "        mcts_player.set_player_ind(p2)\n",
    "        boards[uid] = board\n",
    "        agents[uid] = agent"
   ]
  },
  {
   "cell_type": "code",
   "execution_count": 6,
   "metadata": {},
   "outputs": [],
   "source": [
    "def board_state_to_array(board, agent):\n",
    "    player1, player2 = agent, mcts_player\n",
    "    arr = []\n",
    "    for i in range(height - 1, -1, -1):\n",
    "        row = []\n",
    "        for j in range(width):\n",
    "            loc = i * width + j\n",
    "            p = board.states.get(loc, -1)\n",
    "            row.append(p)\n",
    "        arr.append(row)\n",
    "    return arr"
   ]
  },
  {
   "cell_type": "code",
   "execution_count": 7,
   "metadata": {},
   "outputs": [],
   "source": [
    "@app.route('/play', methods=['GET', 'POST'])\n",
    "def play():\n",
    "    uid = request.args.get('uid')\n",
    "    check_and_create_board(uid)\n",
    "    board = boards[uid]\n",
    "    agent = agents[uid]\n",
    "    if request.method == 'GET':\n",
    "        return { 'move': 0, 'board': board_state_to_array(board, agent) }\n",
    "    if request.method == 'POST':\n",
    "        x = request.args.get('x')\n",
    "        y = request.args.get('y')\n",
    "        human_location = [int(y), int(x)]\n",
    "        human_move = board.location_to_move(human_location)\n",
    "        board.do_move(human_move)\n",
    "        ai_move = mcts_player.get_action(board)\n",
    "        board.do_move(ai_move)\n",
    "        end, winner = board.game_end()\n",
    "        new_location = board.move_to_location(ai_move)\n",
    "        response = {\n",
    "            'move_x': int(new_location[1]),\n",
    "            'move_y': int(new_location[0]),\n",
    "            'board': board_state_to_array(board, agent),\n",
    "            'end': end, 'winner': int(winner)\n",
    "        }\n",
    "        print(response)\n",
    "        return response"
   ]
  },
  {
   "cell_type": "code",
   "execution_count": 8,
   "metadata": {},
   "outputs": [
    {
     "name": "stdout",
     "output_type": "stream",
     "text": [
      " * Serving Flask app \"__main__\" (lazy loading)\n",
      " * Environment: production\n",
      "   WARNING: This is a development server. Do not use it in a production deployment.\n",
      "   Use a production WSGI server instead.\n",
      " * Debug mode: on\n"
     ]
    },
    {
     "name": "stderr",
     "output_type": "stream",
     "text": [
      " * Restarting with stat\n"
     ]
    },
    {
     "ename": "SystemExit",
     "evalue": "1",
     "output_type": "error",
     "traceback": [
      "An exception has occurred, use %tb to see the full traceback.\n",
      "\u001b[1;31mSystemExit\u001b[0m\u001b[1;31m:\u001b[0m 1\n"
     ]
    },
    {
     "name": "stderr",
     "output_type": "stream",
     "text": [
      "c:\\programdata\\anaconda3\\envs\\tf-gpu\\lib\\site-packages\\IPython\\core\\interactiveshell.py:3304: UserWarning: To exit: use 'exit', 'quit', or Ctrl-D.\n",
      "  warn(\"To exit: use 'exit', 'quit', or Ctrl-D.\", stacklevel=1)\n"
     ]
    }
   ],
   "source": [
    "app.run(host='0.0.0.0', port=8800, debug=True)"
   ]
  }
 ],
 "metadata": {
  "kernelspec": {
   "display_name": "Python 3",
   "language": "python",
   "name": "python3"
  },
  "language_info": {
   "codemirror_mode": {
    "name": "ipython",
    "version": 3
   },
   "file_extension": ".py",
   "mimetype": "text/x-python",
   "name": "python",
   "nbconvert_exporter": "python",
   "pygments_lexer": "ipython3",
   "version": "3.6.8"
  }
 },
 "nbformat": 4,
 "nbformat_minor": 2
}
